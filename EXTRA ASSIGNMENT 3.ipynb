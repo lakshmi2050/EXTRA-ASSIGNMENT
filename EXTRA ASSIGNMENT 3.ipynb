{
 "cells": [
  {
   "cell_type": "code",
   "execution_count": 3,
   "id": "cf7d6012",
   "metadata": {},
   "outputs": [
    {
     "name": "stdout",
     "output_type": "stream",
     "text": [
      "Value :10\n",
      "Correct\n"
     ]
    }
   ],
   "source": [
    "i=int(input(\"Value :\"))\n",
    "if(i==10):\n",
    "    print(\"Correct\")\n",
    "    "
   ]
  },
  {
   "cell_type": "code",
   "execution_count": 7,
   "id": "74a69e00",
   "metadata": {},
   "outputs": [
    {
     "name": "stdout",
     "output_type": "stream",
     "text": [
      "Enter the password:HOPE@123\n",
      "Your Password is Correct\n"
     ]
    }
   ],
   "source": [
    "Password=input(\"Enter the password:\")\n",
    "if Password == \"HOPE@123\":\n",
    "    print(\"Your Password is Correct\")\n",
    "else:\n",
    "    print(\"Incorrect Password\")"
   ]
  },
  {
   "cell_type": "code",
   "execution_count": 9,
   "id": "ac2e6058",
   "metadata": {},
   "outputs": [
    {
     "name": "stdout",
     "output_type": "stream",
     "text": [
      "age:20\n",
      "Adult\n"
     ]
    }
   ],
   "source": [
    "age=int(input(\"age:\"))\n",
    "if (age<18):\n",
    "    print(\"Children\")\n",
    "elif (age<40):\n",
    "    print(\"Adult\")\n",
    "elif(age<60):\n",
    "    print(\"Citizen\")\n",
    "else:\n",
    "    print(\"Senior citizen\")"
   ]
  },
  {
   "cell_type": "code",
   "execution_count": 10,
   "id": "5d95e006",
   "metadata": {},
   "outputs": [
    {
     "name": "stdout",
     "output_type": "stream",
     "text": [
      "Enter any number:1\n",
      "No is Postive\n"
     ]
    }
   ],
   "source": [
    "num=int(input(\"Enter any number:\"))\n",
    "if num>0:\n",
    "    print(\"No is Postive\")\n",
    "if num<0:\n",
    "    print(\"No is Negative\")\n"
   ]
  },
  {
   "cell_type": "code",
   "execution_count": 18,
   "id": "2852f4b1",
   "metadata": {},
   "outputs": [
    {
     "name": "stdout",
     "output_type": "stream",
     "text": [
      "Enter a Number to check :22\n",
      "No is not divisible by 5\n"
     ]
    }
   ],
   "source": [
    "num=int(input(\"Enter a Number to check :\"))\n",
    "if num%5 ==0:\n",
    "    print(\"No is divisible by 5\")\n",
    "else:\n",
    "    print(\"No is not divisible by 5\")"
   ]
  },
  {
   "cell_type": "code",
   "execution_count": null,
   "id": "507e516c",
   "metadata": {},
   "outputs": [],
   "source": []
  },
  {
   "cell_type": "code",
   "execution_count": null,
   "id": "2cf03a25",
   "metadata": {},
   "outputs": [],
   "source": []
  },
  {
   "cell_type": "code",
   "execution_count": null,
   "id": "ee87efb3",
   "metadata": {},
   "outputs": [],
   "source": []
  },
  {
   "cell_type": "code",
   "execution_count": null,
   "id": "65d7438d",
   "metadata": {},
   "outputs": [],
   "source": []
  },
  {
   "cell_type": "code",
   "execution_count": null,
   "id": "5459389c",
   "metadata": {},
   "outputs": [],
   "source": []
  }
 ],
 "metadata": {
  "kernelspec": {
   "display_name": "Python 3 (ipykernel)",
   "language": "python",
   "name": "python3"
  },
  "language_info": {
   "codemirror_mode": {
    "name": "ipython",
    "version": 3
   },
   "file_extension": ".py",
   "mimetype": "text/x-python",
   "name": "python",
   "nbconvert_exporter": "python",
   "pygments_lexer": "ipython3",
   "version": "3.11.3"
  }
 },
 "nbformat": 4,
 "nbformat_minor": 5
}
